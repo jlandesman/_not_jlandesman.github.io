{
  "nbformat": 4,
  "nbformat_minor": 0,
  "metadata": {
    "colab": {
      "name": "Tidy_Tuesday_Passwords_dataset.ipynb",
      "provenance": [],
      "authorship_tag": "ABX9TyN/JeIq9g9Tq0DyAVIHhKAY",
      "include_colab_link": true
    },
    "kernelspec": {
      "name": "python3",
      "display_name": "Python 3"
    }
  },
  "cells": [
    {
      "cell_type": "markdown",
      "metadata": {
        "id": "view-in-github",
        "colab_type": "text"
      },
      "source": [
        "<a href=\"https://colab.research.google.com/github/jlandesman/jlandesman.github.io/blob/master/_notebooks/Tidy_Tuesday_Passwords_dataset.ipynb\" target=\"_parent\"><img src=\"https://colab.research.google.com/assets/colab-badge.svg\" alt=\"Open In Colab\"/></a>"
      ]
    },
    {
      "cell_type": "markdown",
      "metadata": {
        "id": "qV72GQ96BtGq",
        "colab_type": "text"
      },
      "source": [
        "# Testing Jekyll"
      ]
    },
    {
      "cell_type": "code",
      "metadata": {
        "id": "Wmt3dKrnGv7z",
        "colab_type": "code",
        "outputId": "c5bfecbb-c8bf-49da-cc84-b53c5dae2c84",
        "colab": {
          "base_uri": "https://localhost:8080/",
          "height": 202
        }
      },
      "source": [
        "import numpy as np\n",
        "import pandas as pd\n",
        "import seaborn as sns\n",
        "URL = 'https://raw.githubusercontent.com/rfordatascience/tidytuesday/master/data/2020/2020-01-14/passwords.csv'\n",
        "df = pd.read_csv(URL)\n",
        "df.head()"
      ],
      "execution_count": 0,
      "outputs": [
        {
          "output_type": "execute_result",
          "data": {
            "text/html": [
              "<div>\n",
              "<style scoped>\n",
              "    .dataframe tbody tr th:only-of-type {\n",
              "        vertical-align: middle;\n",
              "    }\n",
              "\n",
              "    .dataframe tbody tr th {\n",
              "        vertical-align: top;\n",
              "    }\n",
              "\n",
              "    .dataframe thead th {\n",
              "        text-align: right;\n",
              "    }\n",
              "</style>\n",
              "<table border=\"1\" class=\"dataframe\">\n",
              "  <thead>\n",
              "    <tr style=\"text-align: right;\">\n",
              "      <th></th>\n",
              "      <th>rank</th>\n",
              "      <th>password</th>\n",
              "      <th>category</th>\n",
              "      <th>value</th>\n",
              "      <th>time_unit</th>\n",
              "      <th>offline_crack_sec</th>\n",
              "      <th>rank_alt</th>\n",
              "      <th>strength</th>\n",
              "      <th>font_size</th>\n",
              "    </tr>\n",
              "  </thead>\n",
              "  <tbody>\n",
              "    <tr>\n",
              "      <th>0</th>\n",
              "      <td>1.0</td>\n",
              "      <td>password</td>\n",
              "      <td>password-related</td>\n",
              "      <td>6.91</td>\n",
              "      <td>years</td>\n",
              "      <td>2.170000e+00</td>\n",
              "      <td>1.0</td>\n",
              "      <td>8.0</td>\n",
              "      <td>11.0</td>\n",
              "    </tr>\n",
              "    <tr>\n",
              "      <th>1</th>\n",
              "      <td>2.0</td>\n",
              "      <td>123456</td>\n",
              "      <td>simple-alphanumeric</td>\n",
              "      <td>18.52</td>\n",
              "      <td>minutes</td>\n",
              "      <td>1.110000e-05</td>\n",
              "      <td>2.0</td>\n",
              "      <td>4.0</td>\n",
              "      <td>8.0</td>\n",
              "    </tr>\n",
              "    <tr>\n",
              "      <th>2</th>\n",
              "      <td>3.0</td>\n",
              "      <td>12345678</td>\n",
              "      <td>simple-alphanumeric</td>\n",
              "      <td>1.29</td>\n",
              "      <td>days</td>\n",
              "      <td>1.110000e-03</td>\n",
              "      <td>3.0</td>\n",
              "      <td>4.0</td>\n",
              "      <td>8.0</td>\n",
              "    </tr>\n",
              "    <tr>\n",
              "      <th>3</th>\n",
              "      <td>4.0</td>\n",
              "      <td>1234</td>\n",
              "      <td>simple-alphanumeric</td>\n",
              "      <td>11.11</td>\n",
              "      <td>seconds</td>\n",
              "      <td>1.110000e-07</td>\n",
              "      <td>4.0</td>\n",
              "      <td>4.0</td>\n",
              "      <td>8.0</td>\n",
              "    </tr>\n",
              "    <tr>\n",
              "      <th>4</th>\n",
              "      <td>5.0</td>\n",
              "      <td>qwerty</td>\n",
              "      <td>simple-alphanumeric</td>\n",
              "      <td>3.72</td>\n",
              "      <td>days</td>\n",
              "      <td>3.210000e-03</td>\n",
              "      <td>5.0</td>\n",
              "      <td>8.0</td>\n",
              "      <td>11.0</td>\n",
              "    </tr>\n",
              "  </tbody>\n",
              "</table>\n",
              "</div>"
            ],
            "text/plain": [
              "   rank  password             category  ...  rank_alt strength  font_size\n",
              "0   1.0  password     password-related  ...       1.0      8.0       11.0\n",
              "1   2.0    123456  simple-alphanumeric  ...       2.0      4.0        8.0\n",
              "2   3.0  12345678  simple-alphanumeric  ...       3.0      4.0        8.0\n",
              "3   4.0      1234  simple-alphanumeric  ...       4.0      4.0        8.0\n",
              "4   5.0    qwerty  simple-alphanumeric  ...       5.0      8.0       11.0\n",
              "\n",
              "[5 rows x 9 columns]"
            ]
          },
          "metadata": {
            "tags": []
          },
          "execution_count": 2
        }
      ]
    },
    {
      "cell_type": "markdown",
      "metadata": {
        "id": "pW3pR6UKHr7_",
        "colab_type": "text"
      },
      "source": [
        "# Standard Data Cleaning\n",
        "\n"
      ]
    },
    {
      "cell_type": "code",
      "metadata": {
        "id": "mTISaykKHqfk",
        "colab_type": "code",
        "outputId": "d880fb33-7e56-4fdc-9559-59556bcf4021",
        "colab": {
          "base_uri": "https://localhost:8080/",
          "height": 191
        }
      },
      "source": [
        "df.apply(lambda x: x.isnull().sum())"
      ],
      "execution_count": 0,
      "outputs": [
        {
          "output_type": "execute_result",
          "data": {
            "text/plain": [
              "rank                 7\n",
              "password             7\n",
              "category             7\n",
              "value                7\n",
              "time_unit            7\n",
              "offline_crack_sec    7\n",
              "rank_alt             7\n",
              "strength             7\n",
              "font_size            7\n",
              "dtype: int64"
            ]
          },
          "metadata": {
            "tags": []
          },
          "execution_count": 4
        }
      ]
    },
    {
      "cell_type": "code",
      "metadata": {
        "id": "WrXrKxhAH1Jp",
        "colab_type": "code",
        "outputId": "fb72edf4-8a38-48b0-ff9b-efd863f94b4b",
        "colab": {
          "base_uri": "https://localhost:8080/",
          "height": 263
        }
      },
      "source": [
        "df[df['rank'].isnull()]"
      ],
      "execution_count": 0,
      "outputs": [
        {
          "output_type": "execute_result",
          "data": {
            "text/html": [
              "<div>\n",
              "<style scoped>\n",
              "    .dataframe tbody tr th:only-of-type {\n",
              "        vertical-align: middle;\n",
              "    }\n",
              "\n",
              "    .dataframe tbody tr th {\n",
              "        vertical-align: top;\n",
              "    }\n",
              "\n",
              "    .dataframe thead th {\n",
              "        text-align: right;\n",
              "    }\n",
              "</style>\n",
              "<table border=\"1\" class=\"dataframe\">\n",
              "  <thead>\n",
              "    <tr style=\"text-align: right;\">\n",
              "      <th></th>\n",
              "      <th>rank</th>\n",
              "      <th>password</th>\n",
              "      <th>category</th>\n",
              "      <th>value</th>\n",
              "      <th>time_unit</th>\n",
              "      <th>offline_crack_sec</th>\n",
              "      <th>rank_alt</th>\n",
              "      <th>strength</th>\n",
              "      <th>font_size</th>\n",
              "    </tr>\n",
              "  </thead>\n",
              "  <tbody>\n",
              "    <tr>\n",
              "      <th>500</th>\n",
              "      <td>NaN</td>\n",
              "      <td>NaN</td>\n",
              "      <td>NaN</td>\n",
              "      <td>NaN</td>\n",
              "      <td>NaN</td>\n",
              "      <td>NaN</td>\n",
              "      <td>NaN</td>\n",
              "      <td>NaN</td>\n",
              "      <td>NaN</td>\n",
              "    </tr>\n",
              "    <tr>\n",
              "      <th>501</th>\n",
              "      <td>NaN</td>\n",
              "      <td>NaN</td>\n",
              "      <td>NaN</td>\n",
              "      <td>NaN</td>\n",
              "      <td>NaN</td>\n",
              "      <td>NaN</td>\n",
              "      <td>NaN</td>\n",
              "      <td>NaN</td>\n",
              "      <td>NaN</td>\n",
              "    </tr>\n",
              "    <tr>\n",
              "      <th>502</th>\n",
              "      <td>NaN</td>\n",
              "      <td>NaN</td>\n",
              "      <td>NaN</td>\n",
              "      <td>NaN</td>\n",
              "      <td>NaN</td>\n",
              "      <td>NaN</td>\n",
              "      <td>NaN</td>\n",
              "      <td>NaN</td>\n",
              "      <td>NaN</td>\n",
              "    </tr>\n",
              "    <tr>\n",
              "      <th>503</th>\n",
              "      <td>NaN</td>\n",
              "      <td>NaN</td>\n",
              "      <td>NaN</td>\n",
              "      <td>NaN</td>\n",
              "      <td>NaN</td>\n",
              "      <td>NaN</td>\n",
              "      <td>NaN</td>\n",
              "      <td>NaN</td>\n",
              "      <td>NaN</td>\n",
              "    </tr>\n",
              "    <tr>\n",
              "      <th>504</th>\n",
              "      <td>NaN</td>\n",
              "      <td>NaN</td>\n",
              "      <td>NaN</td>\n",
              "      <td>NaN</td>\n",
              "      <td>NaN</td>\n",
              "      <td>NaN</td>\n",
              "      <td>NaN</td>\n",
              "      <td>NaN</td>\n",
              "      <td>NaN</td>\n",
              "    </tr>\n",
              "    <tr>\n",
              "      <th>505</th>\n",
              "      <td>NaN</td>\n",
              "      <td>NaN</td>\n",
              "      <td>NaN</td>\n",
              "      <td>NaN</td>\n",
              "      <td>NaN</td>\n",
              "      <td>NaN</td>\n",
              "      <td>NaN</td>\n",
              "      <td>NaN</td>\n",
              "      <td>NaN</td>\n",
              "    </tr>\n",
              "    <tr>\n",
              "      <th>506</th>\n",
              "      <td>NaN</td>\n",
              "      <td>NaN</td>\n",
              "      <td>NaN</td>\n",
              "      <td>NaN</td>\n",
              "      <td>NaN</td>\n",
              "      <td>NaN</td>\n",
              "      <td>NaN</td>\n",
              "      <td>NaN</td>\n",
              "      <td>NaN</td>\n",
              "    </tr>\n",
              "  </tbody>\n",
              "</table>\n",
              "</div>"
            ],
            "text/plain": [
              "     rank password category  ...  rank_alt strength  font_size\n",
              "500   NaN      NaN      NaN  ...       NaN      NaN        NaN\n",
              "501   NaN      NaN      NaN  ...       NaN      NaN        NaN\n",
              "502   NaN      NaN      NaN  ...       NaN      NaN        NaN\n",
              "503   NaN      NaN      NaN  ...       NaN      NaN        NaN\n",
              "504   NaN      NaN      NaN  ...       NaN      NaN        NaN\n",
              "505   NaN      NaN      NaN  ...       NaN      NaN        NaN\n",
              "506   NaN      NaN      NaN  ...       NaN      NaN        NaN\n",
              "\n",
              "[7 rows x 9 columns]"
            ]
          },
          "metadata": {
            "tags": []
          },
          "execution_count": 5
        }
      ]
    },
    {
      "cell_type": "code",
      "metadata": {
        "id": "DbsYbMI_H5wx",
        "colab_type": "code",
        "colab": {}
      },
      "source": [
        "df.dropna(how='all',axis=0, inplace=True)"
      ],
      "execution_count": 0,
      "outputs": []
    },
    {
      "cell_type": "code",
      "metadata": {
        "id": "ekUdFgSGH-cp",
        "colab_type": "code",
        "outputId": "5832d140-94ac-40c9-df3c-61601349c9bc",
        "colab": {
          "base_uri": "https://localhost:8080/",
          "height": 191
        }
      },
      "source": [
        "df.isnull().sum()"
      ],
      "execution_count": 0,
      "outputs": [
        {
          "output_type": "execute_result",
          "data": {
            "text/plain": [
              "rank                 0\n",
              "password             0\n",
              "category             0\n",
              "value                0\n",
              "time_unit            0\n",
              "offline_crack_sec    0\n",
              "rank_alt             0\n",
              "strength             0\n",
              "font_size            0\n",
              "dtype: int64"
            ]
          },
          "metadata": {
            "tags": []
          },
          "execution_count": 7
        }
      ]
    },
    {
      "cell_type": "markdown",
      "metadata": {
        "id": "zmwvLvFPIVBk",
        "colab_type": "text"
      },
      "source": [
        "## Basic Exploration"
      ]
    },
    {
      "cell_type": "code",
      "metadata": {
        "id": "sudm7SDuIL17",
        "colab_type": "code",
        "outputId": "ae256ed9-df0c-4fb6-8131-0ca7b27289cb",
        "colab": {
          "base_uri": "https://localhost:8080/",
          "height": 69
        }
      },
      "source": [
        "df.columns"
      ],
      "execution_count": 0,
      "outputs": [
        {
          "output_type": "execute_result",
          "data": {
            "text/plain": [
              "Index(['rank', 'password', 'category', 'value', 'time_unit',\n",
              "       'offline_crack_sec', 'rank_alt', 'strength', 'font_size'],\n",
              "      dtype='object')"
            ]
          },
          "metadata": {
            "tags": []
          },
          "execution_count": 8
        }
      ]
    },
    {
      "cell_type": "code",
      "metadata": {
        "id": "-AmAPGBFIW98",
        "colab_type": "code",
        "outputId": "4dc36339-9c36-46e2-8c72-04e64111e569",
        "colab": {
          "base_uri": "https://localhost:8080/",
          "height": 208
        }
      },
      "source": [
        "df['category'].value_counts()"
      ],
      "execution_count": 0,
      "outputs": [
        {
          "output_type": "execute_result",
          "data": {
            "text/plain": [
              "name                   183\n",
              "cool-macho              79\n",
              "simple-alphanumeric     61\n",
              "fluffy                  44\n",
              "sport                   37\n",
              "nerdy-pop               30\n",
              "animal                  29\n",
              "password-related        15\n",
              "food                    11\n",
              "rebellious-rude         11\n",
              "Name: category, dtype: int64"
            ]
          },
          "metadata": {
            "tags": []
          },
          "execution_count": 9
        }
      ]
    },
    {
      "cell_type": "code",
      "metadata": {
        "id": "fepGHLgTIgOX",
        "colab_type": "code",
        "outputId": "0234b58e-1a74-4688-ba8f-6a0464b7cba2",
        "colab": {
          "base_uri": "https://localhost:8080/",
          "height": 966
        }
      },
      "source": [
        "df[['offline_crack_sec','strength','value']].hist(figsize=(10,15), bins=100)"
      ],
      "execution_count": 0,
      "outputs": [
        {
          "output_type": "execute_result",
          "data": {
            "text/plain": [
              "array([[<matplotlib.axes._subplots.AxesSubplot object at 0x7fb047b097b8>,\n",
              "        <matplotlib.axes._subplots.AxesSubplot object at 0x7fb047a83160>],\n",
              "       [<matplotlib.axes._subplots.AxesSubplot object at 0x7fb047a34710>,\n",
              "        <matplotlib.axes._subplots.AxesSubplot object at 0x7fb0479e4cc0>]],\n",
              "      dtype=object)"
            ]
          },
          "metadata": {
            "tags": []
          },
          "execution_count": 10
        },
        {
          "output_type": "display_data",
          "data": {
            "image/png": "[encoded data removed]",
            "text/plain": [
              "<Figure size 720x1080 with 4 Axes>"
            ]
          },
          "metadata": {
            "tags": []
          }
        }
      ]
    },
    {
      "cell_type": "code",
      "metadata": {
        "id": "CkkO0Bd1Ikqv",
        "colab_type": "code",
        "outputId": "d635f0ff-3b01-437c-9880-6a263bf730d5",
        "colab": {
          "base_uri": "https://localhost:8080/",
          "height": 79
        }
      },
      "source": [
        "df.loc[df['offline_crack_sec'] == df['offline_crack_sec'].max()]"
      ],
      "execution_count": 0,
      "outputs": [
        {
          "output_type": "execute_result",
          "data": {
            "text/html": [
              "<div>\n",
              "<style scoped>\n",
              "    .dataframe tbody tr th:only-of-type {\n",
              "        vertical-align: middle;\n",
              "    }\n",
              "\n",
              "    .dataframe tbody tr th {\n",
              "        vertical-align: top;\n",
              "    }\n",
              "\n",
              "    .dataframe thead th {\n",
              "        text-align: right;\n",
              "    }\n",
              "</style>\n",
              "<table border=\"1\" class=\"dataframe\">\n",
              "  <thead>\n",
              "    <tr style=\"text-align: right;\">\n",
              "      <th></th>\n",
              "      <th>rank</th>\n",
              "      <th>password</th>\n",
              "      <th>category</th>\n",
              "      <th>value</th>\n",
              "      <th>time_unit</th>\n",
              "      <th>offline_crack_sec</th>\n",
              "      <th>rank_alt</th>\n",
              "      <th>strength</th>\n",
              "      <th>font_size</th>\n",
              "    </tr>\n",
              "  </thead>\n",
              "  <tbody>\n",
              "    <tr>\n",
              "      <th>405</th>\n",
              "      <td>406.0</td>\n",
              "      <td>jordan23</td>\n",
              "      <td>sport</td>\n",
              "      <td>92.27</td>\n",
              "      <td>years</td>\n",
              "      <td>29.27</td>\n",
              "      <td>407.0</td>\n",
              "      <td>34.0</td>\n",
              "      <td>23.0</td>\n",
              "    </tr>\n",
              "  </tbody>\n",
              "</table>\n",
              "</div>"
            ],
            "text/plain": [
              "      rank  password category  ...  rank_alt strength  font_size\n",
              "405  406.0  jordan23    sport  ...     407.0     34.0       23.0\n",
              "\n",
              "[1 rows x 9 columns]"
            ]
          },
          "metadata": {
            "tags": []
          },
          "execution_count": 11
        }
      ]
    },
    {
      "cell_type": "code",
      "metadata": {
        "id": "tMXgb_ItJYsx",
        "colab_type": "code",
        "outputId": "7690997c-c52f-4ff8-fbf9-9f30684aa4c4",
        "colab": {
          "base_uri": "https://localhost:8080/",
          "height": 415
        }
      },
      "source": [
        "top_10 = pd.DataFrame(df.groupby('category').\n",
        "                      apply(lambda x: x.sort_values('rank')['password'].tail(10))).reset_index()\n",
        "top_10.columns = ['category','rank','password']\n",
        "top_10"
      ],
      "execution_count": 0,
      "outputs": [
        {
          "output_type": "execute_result",
          "data": {
            "text/html": [
              "<div>\n",
              "<style scoped>\n",
              "    .dataframe tbody tr th:only-of-type {\n",
              "        vertical-align: middle;\n",
              "    }\n",
              "\n",
              "    .dataframe tbody tr th {\n",
              "        vertical-align: top;\n",
              "    }\n",
              "\n",
              "    .dataframe thead th {\n",
              "        text-align: right;\n",
              "    }\n",
              "</style>\n",
              "<table border=\"1\" class=\"dataframe\">\n",
              "  <thead>\n",
              "    <tr style=\"text-align: right;\">\n",
              "      <th></th>\n",
              "      <th>category</th>\n",
              "      <th>rank</th>\n",
              "      <th>password</th>\n",
              "    </tr>\n",
              "  </thead>\n",
              "  <tbody>\n",
              "    <tr>\n",
              "      <th>0</th>\n",
              "      <td>animal</td>\n",
              "      <td>347</td>\n",
              "      <td>beaver</td>\n",
              "    </tr>\n",
              "    <tr>\n",
              "      <th>1</th>\n",
              "      <td>animal</td>\n",
              "      <td>355</td>\n",
              "      <td>scorpion</td>\n",
              "    </tr>\n",
              "    <tr>\n",
              "      <th>2</th>\n",
              "      <td>animal</td>\n",
              "      <td>356</td>\n",
              "      <td>doggie</td>\n",
              "    </tr>\n",
              "    <tr>\n",
              "      <th>3</th>\n",
              "      <td>animal</td>\n",
              "      <td>363</td>\n",
              "      <td>birdie</td>\n",
              "    </tr>\n",
              "    <tr>\n",
              "      <th>4</th>\n",
              "      <td>animal</td>\n",
              "      <td>370</td>\n",
              "      <td>animal</td>\n",
              "    </tr>\n",
              "    <tr>\n",
              "      <th>...</th>\n",
              "      <td>...</td>\n",
              "      <td>...</td>\n",
              "      <td>...</td>\n",
              "    </tr>\n",
              "    <tr>\n",
              "      <th>95</th>\n",
              "      <td>sport</td>\n",
              "      <td>416</td>\n",
              "      <td>broncos</td>\n",
              "    </tr>\n",
              "    <tr>\n",
              "      <th>96</th>\n",
              "      <td>sport</td>\n",
              "      <td>443</td>\n",
              "      <td>cricket</td>\n",
              "    </tr>\n",
              "    <tr>\n",
              "      <th>97</th>\n",
              "      <td>sport</td>\n",
              "      <td>446</td>\n",
              "      <td>racing</td>\n",
              "    </tr>\n",
              "    <tr>\n",
              "      <th>98</th>\n",
              "      <td>sport</td>\n",
              "      <td>449</td>\n",
              "      <td>redwings</td>\n",
              "    </tr>\n",
              "    <tr>\n",
              "      <th>99</th>\n",
              "      <td>sport</td>\n",
              "      <td>485</td>\n",
              "      <td>celtic</td>\n",
              "    </tr>\n",
              "  </tbody>\n",
              "</table>\n",
              "<p>100 rows × 3 columns</p>\n",
              "</div>"
            ],
            "text/plain": [
              "   category  rank  password\n",
              "0    animal   347    beaver\n",
              "1    animal   355  scorpion\n",
              "2    animal   356    doggie\n",
              "3    animal   363    birdie\n",
              "4    animal   370    animal\n",
              "..      ...   ...       ...\n",
              "95    sport   416   broncos\n",
              "96    sport   443   cricket\n",
              "97    sport   446    racing\n",
              "98    sport   449  redwings\n",
              "99    sport   485    celtic\n",
              "\n",
              "[100 rows x 3 columns]"
            ]
          },
          "metadata": {
            "tags": []
          },
          "execution_count": 26
        }
      ]
    },
    {
      "cell_type": "code",
      "metadata": {
        "id": "PEhoxGaRwJbZ",
        "colab_type": "code",
        "outputId": "4aedcde4-6930-4fab-dc3d-3456a64fde66",
        "colab": {
          "base_uri": "https://localhost:8080/",
          "height": 202
        }
      },
      "source": [
        "top_10.sort_values(['category','rank'], inplace=True)\n",
        "top_10['num_rank'] = np.tile(np.arange(1,11), top_10['category'].nunique())\n",
        "top_10.head()"
      ],
      "execution_count": 0,
      "outputs": [
        {
          "output_type": "execute_result",
          "data": {
            "text/html": [
              "<div>\n",
              "<style scoped>\n",
              "    .dataframe tbody tr th:only-of-type {\n",
              "        vertical-align: middle;\n",
              "    }\n",
              "\n",
              "    .dataframe tbody tr th {\n",
              "        vertical-align: top;\n",
              "    }\n",
              "\n",
              "    .dataframe thead th {\n",
              "        text-align: right;\n",
              "    }\n",
              "</style>\n",
              "<table border=\"1\" class=\"dataframe\">\n",
              "  <thead>\n",
              "    <tr style=\"text-align: right;\">\n",
              "      <th></th>\n",
              "      <th>category</th>\n",
              "      <th>rank</th>\n",
              "      <th>password</th>\n",
              "      <th>num_rank</th>\n",
              "    </tr>\n",
              "  </thead>\n",
              "  <tbody>\n",
              "    <tr>\n",
              "      <th>0</th>\n",
              "      <td>animal</td>\n",
              "      <td>347</td>\n",
              "      <td>beaver</td>\n",
              "      <td>1</td>\n",
              "    </tr>\n",
              "    <tr>\n",
              "      <th>1</th>\n",
              "      <td>animal</td>\n",
              "      <td>355</td>\n",
              "      <td>scorpion</td>\n",
              "      <td>2</td>\n",
              "    </tr>\n",
              "    <tr>\n",
              "      <th>2</th>\n",
              "      <td>animal</td>\n",
              "      <td>356</td>\n",
              "      <td>doggie</td>\n",
              "      <td>3</td>\n",
              "    </tr>\n",
              "    <tr>\n",
              "      <th>3</th>\n",
              "      <td>animal</td>\n",
              "      <td>363</td>\n",
              "      <td>birdie</td>\n",
              "      <td>4</td>\n",
              "    </tr>\n",
              "    <tr>\n",
              "      <th>4</th>\n",
              "      <td>animal</td>\n",
              "      <td>370</td>\n",
              "      <td>animal</td>\n",
              "      <td>5</td>\n",
              "    </tr>\n",
              "  </tbody>\n",
              "</table>\n",
              "</div>"
            ],
            "text/plain": [
              "  category  rank  password  num_rank\n",
              "0   animal   347    beaver         1\n",
              "1   animal   355  scorpion         2\n",
              "2   animal   356    doggie         3\n",
              "3   animal   363    birdie         4\n",
              "4   animal   370    animal         5"
            ]
          },
          "metadata": {
            "tags": []
          },
          "execution_count": 38
        }
      ]
    },
    {
      "cell_type": "code",
      "metadata": {
        "id": "qw_eFYDyyUD-",
        "colab_type": "code",
        "outputId": "6ea90f6a-9604-498c-d971-6b5ea13e4f69",
        "colab": {
          "base_uri": "https://localhost:8080/",
          "height": 386
        }
      },
      "source": [
        "top_10.pivot(index='num_rank',columns='category',values='password')"
      ],
      "execution_count": 0,
      "outputs": [
        {
          "output_type": "execute_result",
          "data": {
            "text/html": [
              "<div>\n",
              "<style scoped>\n",
              "    .dataframe tbody tr th:only-of-type {\n",
              "        vertical-align: middle;\n",
              "    }\n",
              "\n",
              "    .dataframe tbody tr th {\n",
              "        vertical-align: top;\n",
              "    }\n",
              "\n",
              "    .dataframe thead th {\n",
              "        text-align: right;\n",
              "    }\n",
              "</style>\n",
              "<table border=\"1\" class=\"dataframe\">\n",
              "  <thead>\n",
              "    <tr style=\"text-align: right;\">\n",
              "      <th>category</th>\n",
              "      <th>animal</th>\n",
              "      <th>cool-macho</th>\n",
              "      <th>fluffy</th>\n",
              "      <th>food</th>\n",
              "      <th>name</th>\n",
              "      <th>nerdy-pop</th>\n",
              "      <th>password-related</th>\n",
              "      <th>rebellious-rude</th>\n",
              "      <th>simple-alphanumeric</th>\n",
              "      <th>sport</th>\n",
              "    </tr>\n",
              "    <tr>\n",
              "      <th>num_rank</th>\n",
              "      <th></th>\n",
              "      <th></th>\n",
              "      <th></th>\n",
              "      <th></th>\n",
              "      <th></th>\n",
              "      <th></th>\n",
              "      <th></th>\n",
              "      <th></th>\n",
              "      <th></th>\n",
              "      <th></th>\n",
              "    </tr>\n",
              "  </thead>\n",
              "  <tbody>\n",
              "    <tr>\n",
              "      <th>1</th>\n",
              "      <td>beaver</td>\n",
              "      <td>police</td>\n",
              "      <td>baby</td>\n",
              "      <td>cheese</td>\n",
              "      <td>mexico</td>\n",
              "      <td>ou812</td>\n",
              "      <td>gateway</td>\n",
              "      <td>freedom</td>\n",
              "      <td>123321</td>\n",
              "      <td>yankee</td>\n",
              "    </tr>\n",
              "    <tr>\n",
              "      <th>2</th>\n",
              "      <td>scorpion</td>\n",
              "      <td>therock</td>\n",
              "      <td>private</td>\n",
              "      <td>coffee</td>\n",
              "      <td>fantasy</td>\n",
              "      <td>topgun</td>\n",
              "      <td>please</td>\n",
              "      <td>secret</td>\n",
              "      <td>999999</td>\n",
              "      <td>blazer</td>\n",
              "    </tr>\n",
              "    <tr>\n",
              "      <th>3</th>\n",
              "      <td>doggie</td>\n",
              "      <td>magnum</td>\n",
              "      <td>little</td>\n",
              "      <td>banana</td>\n",
              "      <td>ford</td>\n",
              "      <td>saturn</td>\n",
              "      <td>welcome</td>\n",
              "      <td>whatever</td>\n",
              "      <td>qwert</td>\n",
              "      <td>runner</td>\n",
              "    </tr>\n",
              "    <tr>\n",
              "      <th>4</th>\n",
              "      <td>birdie</td>\n",
              "      <td>nothing</td>\n",
              "      <td>kitten</td>\n",
              "      <td>butter</td>\n",
              "      <td>gibson</td>\n",
              "      <td>online</td>\n",
              "      <td>internet</td>\n",
              "      <td>badboy</td>\n",
              "      <td>1313</td>\n",
              "      <td>bronco</td>\n",
              "    </tr>\n",
              "    <tr>\n",
              "      <th>5</th>\n",
              "      <td>animal</td>\n",
              "      <td>speedy</td>\n",
              "      <td>super</td>\n",
              "      <td>muffin</td>\n",
              "      <td>marcus</td>\n",
              "      <td>dexter</td>\n",
              "      <td>enter</td>\n",
              "      <td>sexsex</td>\n",
              "      <td>87654321</td>\n",
              "      <td>jordan23</td>\n",
              "    </tr>\n",
              "    <tr>\n",
              "      <th>6</th>\n",
              "      <td>elephant</td>\n",
              "      <td>playboy</td>\n",
              "      <td>white</td>\n",
              "      <td>hotdog</td>\n",
              "      <td>cassie</td>\n",
              "      <td>trinity</td>\n",
              "      <td>helpme</td>\n",
              "      <td>butthead</td>\n",
              "      <td>333333</td>\n",
              "      <td>broncos</td>\n",
              "    </tr>\n",
              "    <tr>\n",
              "      <th>7</th>\n",
              "      <td>wolf</td>\n",
              "      <td>pumpkin</td>\n",
              "      <td>sweet</td>\n",
              "      <td>apples</td>\n",
              "      <td>natasha</td>\n",
              "      <td>digital</td>\n",
              "      <td>pookie</td>\n",
              "      <td>booger</td>\n",
              "      <td>123abc</td>\n",
              "      <td>cricket</td>\n",
              "    </tr>\n",
              "    <tr>\n",
              "      <th>8</th>\n",
              "      <td>donkey</td>\n",
              "      <td>sniper</td>\n",
              "      <td>dreams</td>\n",
              "      <td>cocacola</td>\n",
              "      <td>chance</td>\n",
              "      <td>beatles</td>\n",
              "      <td>testing</td>\n",
              "      <td>stupid</td>\n",
              "      <td>xxxx</td>\n",
              "      <td>racing</td>\n",
              "    </tr>\n",
              "    <tr>\n",
              "      <th>9</th>\n",
              "      <td>buffalo</td>\n",
              "      <td>hotrod</td>\n",
              "      <td>kitty</td>\n",
              "      <td>apple</td>\n",
              "      <td>alexande</td>\n",
              "      <td>genesis</td>\n",
              "      <td>tester</td>\n",
              "      <td>horny</td>\n",
              "      <td>test123</td>\n",
              "      <td>redwings</td>\n",
              "    </tr>\n",
              "    <tr>\n",
              "      <th>10</th>\n",
              "      <td>eagle</td>\n",
              "      <td>reddog</td>\n",
              "      <td>girl</td>\n",
              "      <td>cherry</td>\n",
              "      <td>jester</td>\n",
              "      <td>college</td>\n",
              "      <td>passw0rd</td>\n",
              "      <td>sucker</td>\n",
              "      <td>888888</td>\n",
              "      <td>celtic</td>\n",
              "    </tr>\n",
              "  </tbody>\n",
              "</table>\n",
              "</div>"
            ],
            "text/plain": [
              "category    animal cool-macho  ... simple-alphanumeric     sport\n",
              "num_rank                       ...                              \n",
              "1           beaver     police  ...              123321    yankee\n",
              "2         scorpion    therock  ...              999999    blazer\n",
              "3           doggie     magnum  ...               qwert    runner\n",
              "4           birdie    nothing  ...                1313    bronco\n",
              "5           animal     speedy  ...            87654321  jordan23\n",
              "6         elephant    playboy  ...              333333   broncos\n",
              "7             wolf    pumpkin  ...              123abc   cricket\n",
              "8           donkey     sniper  ...                xxxx    racing\n",
              "9          buffalo     hotrod  ...             test123  redwings\n",
              "10           eagle     reddog  ...              888888    celtic\n",
              "\n",
              "[10 rows x 10 columns]"
            ]
          },
          "metadata": {
            "tags": []
          },
          "execution_count": 39
        }
      ]
    },
    {
      "cell_type": "code",
      "metadata": {
        "id": "44BEBTinJiTt",
        "colab_type": "code",
        "outputId": "2226d84b-a467-41b8-f157-367664966d90",
        "colab": {
          "base_uri": "https://localhost:8080/",
          "height": 202
        }
      },
      "source": [
        "df.sort_values('strength').tail()"
      ],
      "execution_count": 0,
      "outputs": [
        {
          "output_type": "execute_result",
          "data": {
            "text/html": [
              "<div>\n",
              "<style scoped>\n",
              "    .dataframe tbody tr th:only-of-type {\n",
              "        vertical-align: middle;\n",
              "    }\n",
              "\n",
              "    .dataframe tbody tr th {\n",
              "        vertical-align: top;\n",
              "    }\n",
              "\n",
              "    .dataframe thead th {\n",
              "        text-align: right;\n",
              "    }\n",
              "</style>\n",
              "<table border=\"1\" class=\"dataframe\">\n",
              "  <thead>\n",
              "    <tr style=\"text-align: right;\">\n",
              "      <th></th>\n",
              "      <th>rank</th>\n",
              "      <th>password</th>\n",
              "      <th>category</th>\n",
              "      <th>value</th>\n",
              "      <th>time_unit</th>\n",
              "      <th>offline_crack_sec</th>\n",
              "      <th>rank_alt</th>\n",
              "      <th>strength</th>\n",
              "      <th>font_size</th>\n",
              "    </tr>\n",
              "  </thead>\n",
              "  <tbody>\n",
              "    <tr>\n",
              "      <th>358</th>\n",
              "      <td>359.0</td>\n",
              "      <td>ou812</td>\n",
              "      <td>nerdy-pop</td>\n",
              "      <td>17.28</td>\n",
              "      <td>hours</td>\n",
              "      <td>0.000622</td>\n",
              "      <td>360.0</td>\n",
              "      <td>36.0</td>\n",
              "      <td>24.0</td>\n",
              "    </tr>\n",
              "    <tr>\n",
              "      <th>320</th>\n",
              "      <td>321.0</td>\n",
              "      <td>bond007</td>\n",
              "      <td>nerdy-pop</td>\n",
              "      <td>2.56</td>\n",
              "      <td>years</td>\n",
              "      <td>0.806000</td>\n",
              "      <td>322.0</td>\n",
              "      <td>38.0</td>\n",
              "      <td>25.0</td>\n",
              "    </tr>\n",
              "    <tr>\n",
              "      <th>148</th>\n",
              "      <td>149.0</td>\n",
              "      <td>ncc1701</td>\n",
              "      <td>nerdy-pop</td>\n",
              "      <td>2.56</td>\n",
              "      <td>years</td>\n",
              "      <td>0.806000</td>\n",
              "      <td>149.0</td>\n",
              "      <td>46.0</td>\n",
              "      <td>27.0</td>\n",
              "    </tr>\n",
              "    <tr>\n",
              "      <th>196</th>\n",
              "      <td>197.0</td>\n",
              "      <td>thx1138</td>\n",
              "      <td>nerdy-pop</td>\n",
              "      <td>2.56</td>\n",
              "      <td>years</td>\n",
              "      <td>0.806000</td>\n",
              "      <td>198.0</td>\n",
              "      <td>46.0</td>\n",
              "      <td>27.0</td>\n",
              "    </tr>\n",
              "    <tr>\n",
              "      <th>335</th>\n",
              "      <td>336.0</td>\n",
              "      <td>rush2112</td>\n",
              "      <td>nerdy-pop</td>\n",
              "      <td>92.27</td>\n",
              "      <td>years</td>\n",
              "      <td>29.020000</td>\n",
              "      <td>337.0</td>\n",
              "      <td>48.0</td>\n",
              "      <td>28.0</td>\n",
              "    </tr>\n",
              "  </tbody>\n",
              "</table>\n",
              "</div>"
            ],
            "text/plain": [
              "      rank  password   category  ...  rank_alt strength  font_size\n",
              "358  359.0     ou812  nerdy-pop  ...     360.0     36.0       24.0\n",
              "320  321.0   bond007  nerdy-pop  ...     322.0     38.0       25.0\n",
              "148  149.0   ncc1701  nerdy-pop  ...     149.0     46.0       27.0\n",
              "196  197.0   thx1138  nerdy-pop  ...     198.0     46.0       27.0\n",
              "335  336.0  rush2112  nerdy-pop  ...     337.0     48.0       28.0\n",
              "\n",
              "[5 rows x 9 columns]"
            ]
          },
          "metadata": {
            "tags": []
          },
          "execution_count": 13
        }
      ]
    },
    {
      "cell_type": "code",
      "metadata": {
        "id": "fj2ibPtWJySp",
        "colab_type": "code",
        "colab": {}
      },
      "source": [
        ""
      ],
      "execution_count": 0,
      "outputs": []
    }
  ]
}